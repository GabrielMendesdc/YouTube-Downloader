{
 "cells": [
  {
   "cell_type": "code",
   "execution_count": 1,
   "id": "16ba38ef",
   "metadata": {},
   "outputs": [
    {
     "data": {
      "text/html": [
       "<style>.container { width:90% !important; }</style>"
      ],
      "text/plain": [
       "<IPython.core.display.HTML object>"
      ]
     },
     "metadata": {},
     "output_type": "display_data"
    }
   ],
   "source": [
    "from IPython.core.display import display, HTML\n",
    "display(HTML(\"<style>.container { width:90% !important; }</style>\"))"
   ]
  },
  {
   "cell_type": "code",
   "execution_count": 10,
   "id": "c4cdb330",
   "metadata": {
    "code_folding": []
   },
   "outputs": [
    {
     "name": "stderr",
     "output_type": "stream",
     "text": [
      "Exception in Tkinter callback\n",
      "Traceback (most recent call last):\n",
      "  File \"C:\\Users\\pdv\\anaconda3\\envs\\cientista\\lib\\tkinter\\__init__.py\", line 1921, in __call__\n",
      "    return self.func(*args)\n",
      "  File \"C:\\Users\\pdv\\AppData\\Local\\Temp/ipykernel_1680/3594966814.py\", line 25, in pegaentry\n",
      "    return faz(link)\n",
      "  File \"C:\\Users\\pdv\\AppData\\Local\\Temp/ipykernel_1680/3594966814.py\", line 97, in faz\n",
      "    print(yt.streams.filter(only_video=True, mime_type=\"video/mp4\"), type(yt.streams.filter(only_video=True, mime_type=\"video/mp4\")))\n",
      "  File \"C:\\Users\\pdv\\anaconda3\\envs\\cientista\\lib\\site-packages\\pytube\\__main__.py\", line 292, in streams\n",
      "    return StreamQuery(self.fmt_streams)\n",
      "  File \"C:\\Users\\pdv\\anaconda3\\envs\\cientista\\lib\\site-packages\\pytube\\__main__.py\", line 177, in fmt_streams\n",
      "    extract.apply_signature(stream_manifest, self.vid_info, self.js)\n",
      "  File \"C:\\Users\\pdv\\anaconda3\\envs\\cientista\\lib\\site-packages\\pytube\\extract.py\", line 409, in apply_signature\n",
      "    cipher = Cipher(js=js)\n",
      "  File \"C:\\Users\\pdv\\anaconda3\\envs\\cientista\\lib\\site-packages\\pytube\\cipher.py\", line 43, in __init__\n",
      "    self.throttling_plan = get_throttling_plan(js)\n",
      "  File \"C:\\Users\\pdv\\anaconda3\\envs\\cientista\\lib\\site-packages\\pytube\\cipher.py\", line 387, in get_throttling_plan\n",
      "    raw_code = get_throttling_function_code(js)\n",
      "  File \"C:\\Users\\pdv\\anaconda3\\envs\\cientista\\lib\\site-packages\\pytube\\cipher.py\", line 301, in get_throttling_function_code\n",
      "    code_lines_list = find_object_from_startpoint(js, match.span()[1]).split('\\n')\n",
      "AttributeError: 'NoneType' object has no attribute 'span'\n"
     ]
    }
   ],
   "source": [
    "from pytube import YouTube\n",
    "from tkinter import *  \n",
    "import urllib.request as url\n",
    "from PIL import Image, ImageTk\n",
    "from urllib.request import urlopen\n",
    "import io\n",
    "\n",
    "def pegaentry(link):\n",
    "    global img\n",
    "    link = entry.get()\n",
    "    ind = link.index('=') + 1\n",
    "    try:\n",
    "        letra = link.index('&')\n",
    "        imgUrl = f'https://i.ytimg.com/vi/{link[ind:letra]}/hqdefault.jpg'\n",
    "    except:\n",
    "         imgUrl = f'https://i.ytimg.com/vi/{link[ind:]}/hqdefault.jpg'\n",
    "            \n",
    "    url.urlretrieve(imgUrl, \"C:/Users/pdv/desktop/thumb.png\")\n",
    "    img = ImageTk.PhotoImage(file = \"C:/Users/pdv/desktop/thumb.png\")\n",
    "    frame = Label(janela)\n",
    "    bt = Canvas(frame)\n",
    "    bt.create_image(0, 0, image=img, anchor=NW)\n",
    "    bt.grid(row=contador())\n",
    "    frame.grid()\n",
    "    return faz(link)\n",
    "\n",
    "\n",
    "link, yt = '', ''\n",
    "i=2\n",
    "\n",
    "root = Tk()\n",
    "root.title('YouTube Downloader')\n",
    "\n",
    "janela = Label(root, bg='pink')\n",
    "janela.grid()\n",
    "\n",
    "entry = Entry(janela, width = 25,textvariable = link, bg='white', font=(\"Arial\", 18))\n",
    "entry.bind('<Return>',pegaentry)\n",
    "entry.grid(row=1)\n",
    "\n",
    "texto = Text(janela, height = 1, bg='white', width = 25, font=(\"Arial\", 18))\n",
    "texto.tag_configure(\"tag_name\", justify='center')\n",
    "texto.insert(\"1.0\", \"Digite sua URL: \")\n",
    "texto.tag_add(\"tag_name\", \"1.0\", \"end\")\n",
    "texto.grid(row=0)\n",
    "\n",
    "\n",
    "def contador():\n",
    "    global i\n",
    "    i += 1\n",
    "    return i-1\n",
    "\n",
    "    \n",
    "def criabtn(x,stream):\n",
    "    botao = Button(janela,text=stream,bg='white',font=(\"Arial\", 18), command = lambda: baixar(x))\n",
    "    botao.grid(row=contador())\n",
    "    \n",
    "    \n",
    "def baixar(x):\n",
    "    ys = yt.streams.get_by_itag(x)\n",
    "    ys.download('C:/Users/pdv/desktop/')\n",
    "    init()\n",
    "\n",
    "    \n",
    "def sep(i, types, length):\n",
    "    i = str(i)\n",
    "    lista = i.split('\"')\n",
    "    if types == 'audio':\n",
    "        importante = lista[1:6:2]\n",
    "        importante.append(str(length))\n",
    "        print(importante)\n",
    "        importante[1] = importante[1].replace('/mp4', '')\n",
    "        criabtn(importante[0],importante[1:])\n",
    "    else:\n",
    "        importante = lista[1:8:2]\n",
    "        importante.append(length)\n",
    "        print(importante)\n",
    "        importante[1] = importante[1].replace('/mp4', '')\n",
    "        criabtn(importante[0],importante[1:])\n",
    "        \n",
    "    \n",
    "def gigas(length):\n",
    "    print('tamanho', length)\n",
    "    listo = ['','bytes', 'KB', 'MB', 'GB', 'TB', 'YB']\n",
    "    for i in range(8):\n",
    "        if length <= 1024 ** i:\n",
    "            tam = length / (1024 ** (i-1))\n",
    "            tam = round(tam)\n",
    "            stri = str(f'{tam}{listo[i]}')\n",
    "            return stri\n",
    "            \n",
    "\n",
    "def faz(link):\n",
    "    global yt\n",
    "    yt = YouTube(link)\n",
    "    j=0\n",
    "    print(yt.streams.filter(only_video=True, mime_type=\"video/mp4\"), type(yt.streams.filter(only_video=True, mime_type=\"video/mp4\")))\n",
    "    for i in yt.streams.filter(only_video=True, mime_type=\"video/mp4\"):\n",
    "\n",
    "        if i:\n",
    "            tam = gigas(i.filesize_approx)\n",
    "            if not j >= 5:\n",
    "                sep(i, 'video', tam)\n",
    "            j+=1    \n",
    "    for i in yt.streams.filter(only_audio=True, mime_type=\"audio/mp4\"):\n",
    "        if i:\n",
    "            tam = gigas(i.filesize_approx)\n",
    "            sep(i, 'audio', tam)\n",
    "\n",
    "        \n",
    "root.mainloop()"
   ]
  },
  {
   "cell_type": "code",
   "execution_count": null,
   "id": "3064593a",
   "metadata": {},
   "outputs": [],
   "source": []
  }
 ],
 "metadata": {
  "kernelspec": {
   "display_name": "cientista",
   "language": "python",
   "name": "cientista"
  },
  "language_info": {
   "codemirror_mode": {
    "name": "ipython",
    "version": 3
   },
   "file_extension": ".py",
   "mimetype": "text/x-python",
   "name": "python",
   "nbconvert_exporter": "python",
   "pygments_lexer": "ipython3",
   "version": "3.10.0"
  }
 },
 "nbformat": 4,
 "nbformat_minor": 5
}
